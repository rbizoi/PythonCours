{
 "cells": [
  {
   "cell_type": "markdown",
   "metadata": {},
   "source": [
    "# Creation de module dynamiquement"
   ]
  },
  {
   "cell_type": "code",
   "execution_count": 1,
   "metadata": {
    "ExecuteTime": {
     "end_time": "2020-09-27T20:09:08.983959Z",
     "start_time": "2020-09-27T20:09:08.979970Z"
    }
   },
   "outputs": [],
   "source": [
    "import os\n",
    "contenuFichier = \"\"\"\n",
    "def main():\n",
    "    print(__name__)\n",
    "\n",
    "def changerRepertoire(nomRep = \"C:/Solutions/Fichiers\"):\n",
    "    from os import mkdir, chdir, getcwd,path\n",
    "    if not path.isdir(nomRep):\n",
    "        mkdir(nomRep)\n",
    "\n",
    "    chdir(nomRep)\n",
    "    rep_cour = getcwd()\n",
    "    print(rep_cour)\n",
    "\n",
    "\n",
    "if __name__ == '__main__' :\n",
    "    main()\n",
    "else :\n",
    "    print ('autre appel')\n",
    "\"\"\""
   ]
  },
  {
   "cell_type": "code",
   "execution_count": 2,
   "metadata": {
    "ExecuteTime": {
     "end_time": "2020-09-27T20:09:09.934889Z",
     "start_time": "2020-09-27T20:09:09.929902Z"
    }
   },
   "outputs": [
    {
     "name": "stdout",
     "output_type": "stream",
     "text": [
      "\n",
      "def main():\n",
      "    print(__name__)\n",
      "\n",
      "def changerRepertoire(nomRep = \"C:/Solutions/Fichiers\"):\n",
      "    from os import mkdir, chdir, getcwd,path\n",
      "    if not path.isdir(nomRep):\n",
      "        mkdir(nomRep)\n",
      "\n",
      "    chdir(nomRep)\n",
      "    rep_cour = getcwd()\n",
      "    print(rep_cour)\n",
      "\n",
      "\n",
      "if __name__ == '__main__' :\n",
      "    main()\n",
      "else :\n",
      "    print ('autre appel')\n",
      "\n"
     ]
    }
   ],
   "source": [
    "print(contenuFichier)"
   ]
  },
  {
   "cell_type": "code",
   "execution_count": 3,
   "metadata": {},
   "outputs": [
    {
     "name": "stdout",
     "output_type": "stream",
     "text": [
      "__main__\n"
     ]
    }
   ],
   "source": [
    "def main():\n",
    "    print(__name__)\n",
    "\n",
    "def changerRepertoire(nomRep = \"C:/Solutions/Fichiers\"):\n",
    "    from os import mkdir, chdir, getcwd,path\n",
    "    if not path.isdir(nomRep):\n",
    "        mkdir(nomRep)\n",
    "\n",
    "    chdir(nomRep)\n",
    "    rep_cour = getcwd()\n",
    "    print(rep_cour)\n",
    "\n",
    "\n",
    "if __name__ == '__main__' :\n",
    "    main()\n",
    "else :\n",
    "    print ('autre appel')"
   ]
  },
  {
   "cell_type": "code",
   "execution_count": 4,
   "metadata": {},
   "outputs": [
    {
     "data": {
      "text/plain": [
       "'\\ndef main():\\n    print(__name__)\\n\\ndef changerRepertoire(nomRep = \"C:/Solutions/Fichiers\"):\\n    from os import mkdir, chdir, getcwd,path\\n    if not path.isdir(nomRep):\\n        mkdir(nomRep)\\n\\n    chdir(nomRep)\\n    rep_cour = getcwd()\\n    print(rep_cour)\\n\\n\\nif __name__ == \\'__main__\\' :\\n    main()\\nelse :\\n    print (\\'autre appel\\')\\n'"
      ]
     },
     "execution_count": 4,
     "metadata": {},
     "output_type": "execute_result"
    }
   ],
   "source": [
    "contenuFichier"
   ]
  },
  {
   "cell_type": "code",
   "execution_count": 5,
   "metadata": {},
   "outputs": [
    {
     "data": {
      "text/plain": [
       "'F:\\\\FormationPython\\\\Preparation'"
      ]
     },
     "execution_count": 5,
     "metadata": {},
     "output_type": "execute_result"
    }
   ],
   "source": [
    "os.getcwd()"
   ]
  },
  {
   "cell_type": "code",
   "execution_count": 6,
   "metadata": {
    "ExecuteTime": {
     "end_time": "2019-07-08T12:44:03.416715Z",
     "start_time": "2019-07-08T12:44:03.401061Z"
    }
   },
   "outputs": [],
   "source": [
    "with open(r\"F:\\FormationPython\\Preparation\\LesFichiers.py\",'w') as of:\n",
    "    of.write(contenuFichier)"
   ]
  },
  {
   "cell_type": "code",
   "execution_count": 7,
   "metadata": {
    "ExecuteTime": {
     "end_time": "2019-07-08T12:44:05.237288Z",
     "start_time": "2019-07-08T12:44:05.206202Z"
    }
   },
   "outputs": [
    {
     "name": "stdout",
     "output_type": "stream",
     "text": [
      "autre appel\n",
      "C:\\Solutions\\Fichiers\n"
     ]
    }
   ],
   "source": [
    "from LesFichiers import changerRepertoire\n",
    "\n",
    "changerRepertoire()"
   ]
  },
  {
   "cell_type": "code",
   "execution_count": 8,
   "metadata": {
    "ExecuteTime": {
     "end_time": "2019-07-08T12:48:39.702360Z",
     "start_time": "2019-07-08T12:48:39.686740Z"
    }
   },
   "outputs": [],
   "source": [
    "with open('MonFic.txt','w') as of:\n",
    "    for i in range(0,10):\n",
    "        of.write(str(i)+'\\tbbb bbbbb aaaaa\\n')"
   ]
  },
  {
   "cell_type": "code",
   "execution_count": 9,
   "metadata": {
    "ExecuteTime": {
     "end_time": "2019-07-08T12:48:12.605201Z",
     "start_time": "2019-07-08T12:48:12.574113Z"
    }
   },
   "outputs": [
    {
     "data": {
      "text/plain": [
       "True"
      ]
     },
     "execution_count": 9,
     "metadata": {},
     "output_type": "execute_result"
    }
   ],
   "source": [
    "from os import mkdir, chdir, getcwd, path\n",
    "path.isfile('MonFic.txt')"
   ]
  },
  {
   "cell_type": "code",
   "execution_count": 10,
   "metadata": {
    "ExecuteTime": {
     "end_time": "2019-07-08T12:48:43.216274Z",
     "start_time": "2019-07-08T12:48:43.185202Z"
    }
   },
   "outputs": [
    {
     "name": "stdout",
     "output_type": "stream",
     "text": [
      "['0\\tbbb bbbbb aaaaa\\n', '1\\tbbb bbbbb aaaaa\\n', '2\\tbbb bbbbb aaaaa\\n', '3\\tbbb bbbbb aaaaa\\n', '4\\tbbb bbbbb aaaaa\\n', '5\\tbbb bbbbb aaaaa\\n', '6\\tbbb bbbbb aaaaa\\n', '7\\tbbb bbbbb aaaaa\\n', '8\\tbbb bbbbb aaaaa\\n', '9\\tbbb bbbbb aaaaa\\n']\n",
      "0\tbbb bbbbb aaaaa\n",
      "1\tbbb bbbbb aaaaa\n",
      "2\tbbb bbbbb aaaaa\n",
      "3\tbbb bbbbb aaaaa\n",
      "4\tbbb bbbbb aaaaa\n",
      "5\tbbb bbbbb aaaaa\n",
      "6\tbbb bbbbb aaaaa\n",
      "7\tbbb bbbbb aaaaa\n",
      "8\tbbb bbbbb aaaaa\n",
      "9\tbbb bbbbb aaaaa\n"
     ]
    }
   ],
   "source": [
    "from os import mkdir, chdir, getcwd, path\n",
    "\n",
    "if path.isfile('MonFic.txt'):\n",
    "    with open('MonFic.txt','r') as nomFic:\n",
    "        lines =nomFic.readlines()\n",
    "        print(lines      )\n",
    "        for line in lines :\n",
    "            print(line,end='')"
   ]
  },
  {
   "cell_type": "markdown",
   "metadata": {},
   "source": [
    "# Lecture séquentielle d’un fichier"
   ]
  },
  {
   "cell_type": "code",
   "execution_count": 11,
   "metadata": {},
   "outputs": [],
   "source": [
    "with open('MonFic.txt','w') as of:\n",
    "    for i in range(0,10):\n",
    "        of.write(str(i)+'\\taaaa aaaaa aaaaa\\n')"
   ]
  },
  {
   "cell_type": "code",
   "execution_count": 12,
   "metadata": {},
   "outputs": [
    {
     "name": "stdout",
     "output_type": "stream",
     "text": [
      "['0\\taaaa aaaaa aaaaa\\n', '1\\taaaa aaaaa aaaaa\\n', '2\\taaaa aaaaa aaaaa\\n', '3\\taaaa aaaaa aaaaa\\n', '4\\taaaa aaaaa aaaaa\\n', '5\\taaaa aaaaa aaaaa\\n', '6\\taaaa aaaaa aaaaa\\n', '7\\taaaa aaaaa aaaaa\\n', '8\\taaaa aaaaa aaaaa\\n', '9\\taaaa aaaaa aaaaa\\n']\n",
      "0\taaaa aaaaa aaaaa\n",
      "1\taaaa aaaaa aaaaa\n",
      "2\taaaa aaaaa aaaaa\n",
      "3\taaaa aaaaa aaaaa\n",
      "4\taaaa aaaaa aaaaa\n",
      "5\taaaa aaaaa aaaaa\n",
      "6\taaaa aaaaa aaaaa\n",
      "7\taaaa aaaaa aaaaa\n",
      "8\taaaa aaaaa aaaaa\n",
      "9\taaaa aaaaa aaaaa\n"
     ]
    }
   ],
   "source": [
    "with open('MonFic.txt','r') as of:\n",
    "    lines =of.readlines()\n",
    "    print(lines      )\n",
    "    for line in lines :\n",
    "        print(line,end='')"
   ]
  },
  {
   "cell_type": "code",
   "execution_count": 15,
   "metadata": {},
   "outputs": [
    {
     "name": "stdout",
     "output_type": "stream",
     "text": [
      "0\taaaa aaaaa aaaaa\n",
      "1\taaaa aaaaa aaaaa\n",
      "2\taaaa aaaaa aaaaa\n",
      "3\taaaa aaaaa aaaaa\n",
      "4\taaaa aaaaa aaaaa\n",
      "5\taaaa aaaaa aaaaa\n",
      "6\taaaa aaaaa aaaaa\n",
      "7\taaaa aaaaa aaaaa\n",
      "8\taaaa aaaaa aaaaa\n",
      "9\taaaa aaaaa aaaaa\n"
     ]
    }
   ],
   "source": [
    "with open('MonFic.txt','r') as of:\n",
    "    line =of.readline()\n",
    "\n",
    "    while line:\n",
    "        print(line,end='')\n",
    "        line = of.readline()"
   ]
  },
  {
   "cell_type": "code",
   "execution_count": 16,
   "metadata": {},
   "outputs": [
    {
     "name": "stdout",
     "output_type": "stream",
     "text": [
      "[\"(0, 'noir')\\n\", \"(1, 'brun')\\n\", \"(2, 'rouge')\\n\", \"(3, 'orange')\\n\", \"(4, 'jaune')\\n\", \"(5, 'vert')\\n\", \"(6, 'bleu')\\n\", \"(7, 'violet')\\n\", \"(8, 'gris')\\n\", \"(9, 'blanc')\\n\"]\n",
      "(0, 'noir')\n",
      "(1, 'brun')\n",
      "(2, 'rouge')\n",
      "(3, 'orange')\n",
      "(4, 'jaune')\n",
      "(5, 'vert')\n",
      "(6, 'bleu')\n",
      "(7, 'violet')\n",
      "(8, 'gris')\n",
      "(9, 'blanc')\n"
     ]
    }
   ],
   "source": [
    "couleurs = ['noir', 'brun', 'rouge',\n",
    "            'orange', 'jaune', 'vert',\n",
    "            'bleu', 'violet', 'gris', 'blanc']\n",
    "with open('Couleurs.txt','w') as nomFic :\n",
    "    i = 0\n",
    "    for couleur in couleurs :\n",
    "        print((i,couleur),file=nomFic)\n",
    "        i += 1\n",
    "\n",
    "with open('Couleurs.txt','r') as nomFic :\n",
    "    lines =nomFic.readlines()\n",
    "    print(lines)\n",
    "    for line in lines :\n",
    "        print(line,end='')"
   ]
  },
  {
   "cell_type": "code",
   "execution_count": 17,
   "metadata": {},
   "outputs": [
    {
     "name": "stdout",
     "output_type": "stream",
     "text": [
      "C:\\Solutions\\Fichiers\n",
      "[\"0,'noir'\\n\", \"1,'brun'\\n\", \"2,'rouge'\\n\", \"3,'orange'\\n\", \"4,'jaune'\\n\", \"5,'vert'\\n\", \"6,'bleu'\\n\", \"7,'violet'\\n\", \"8,'gris'\\n\", \"9,'blanc'\\n\"]\n",
      "0 \t noir\n",
      "1 \t brun\n",
      "2 \t rouge\n",
      "3 \t orange\n",
      "4 \t jaune\n",
      "5 \t vert\n",
      "6 \t bleu\n",
      "7 \t violet\n",
      "8 \t gris\n",
      "9 \t blanc\n",
      "[\"(0, 'noir')\\n\", \"(1, 'brun')\\n\", \"(2, 'rouge')\\n\", \"(3, 'orange')\\n\", \"(4, 'jaune')\\n\", \"(5, 'vert')\\n\", \"(6, 'bleu')\\n\", \"(7, 'violet')\\n\", \"(8, 'gris')\\n\", \"(9, 'blanc')\\n\"]\n",
      "0\n",
      "noir\n",
      "1\n",
      "brun\n",
      "2\n",
      "rouge\n",
      "3\n",
      "orange\n",
      "4\n",
      "jaune\n",
      "5\n",
      "vert\n",
      "6\n",
      "bleu\n",
      "7\n",
      "violet\n",
      "8\n",
      "gris\n",
      "9\n",
      "blanc\n",
      "************************************************** \n",
      " 9\n"
     ]
    }
   ],
   "source": [
    "import LesFichiers as lf\n",
    "\n",
    "lf.changerRepertoire()\n",
    "\n",
    "\n",
    "import os\n",
    "\n",
    "couleurs = ['noir', 'brun', 'rouge',\n",
    "            'orange', 'jaune', 'vert',\n",
    "            'bleu', 'violet', 'gris', 'blanc']\n",
    "with open('Couleurs.txt','w') as nomFic :\n",
    "    i = 0\n",
    "    for couleur in couleurs :\n",
    "        print(f\"{i},\\'{couleur}\\'\",file=nomFic)\n",
    "        i += 1\n",
    "\n",
    "with open('Couleurs.txt','r') as nomFic :\n",
    "    lines =nomFic.readlines()\n",
    "    print(lines)\n",
    "    for line in lines :\n",
    "        #print(line,end='')\n",
    "        x,y=eval(line)\n",
    "        print(x,'\\t',y)\n",
    "\n",
    "\n",
    "with open('Couleurs.txt','w') as nomFic :\n",
    "    i = 0\n",
    "    for couleur in couleurs :\n",
    "        print([i,couleur],file=nomFic)\n",
    "        i += 1\n",
    "\n",
    "with open('Couleurs.txt','w') as nomFic :\n",
    "    i = 0\n",
    "    for couleur in couleurs :\n",
    "        print((i,couleur),file=nomFic)\n",
    "        i += 1\n",
    "\n",
    "\n",
    "with open('Couleurs.txt','r') as nomFic :\n",
    "    lines =nomFic.readlines()\n",
    "    print(lines)\n",
    "    for line in lines :\n",
    "        x=eval(line)\n",
    "        for i in x:\n",
    "            print(i)\n",
    "            \n",
    "print('*'*50,'\\n',x[0])"
   ]
  },
  {
   "cell_type": "code",
   "execution_count": null,
   "metadata": {},
   "outputs": [],
   "source": []
  },
  {
   "cell_type": "code",
   "execution_count": null,
   "metadata": {},
   "outputs": [],
   "source": []
  },
  {
   "cell_type": "code",
   "execution_count": null,
   "metadata": {},
   "outputs": [],
   "source": []
  },
  {
   "cell_type": "code",
   "execution_count": null,
   "metadata": {},
   "outputs": [],
   "source": []
  },
  {
   "cell_type": "code",
   "execution_count": null,
   "metadata": {},
   "outputs": [],
   "source": []
  }
 ],
 "metadata": {
  "kernelspec": {
   "display_name": "Python 3 (ipykernel)",
   "language": "python",
   "name": "python3"
  },
  "language_info": {
   "codemirror_mode": {
    "name": "ipython",
    "version": 3
   },
   "file_extension": ".py",
   "mimetype": "text/x-python",
   "name": "python",
   "nbconvert_exporter": "python",
   "pygments_lexer": "ipython3",
   "version": "3.9.18"
  }
 },
 "nbformat": 4,
 "nbformat_minor": 4
}
